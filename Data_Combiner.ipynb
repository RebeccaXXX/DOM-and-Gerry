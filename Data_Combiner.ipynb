{
 "cells": [
  {
   "cell_type": "code",
   "execution_count": 1,
   "metadata": {},
   "outputs": [],
   "source": [
    "import pandas as pd"
   ]
  },
  {
   "cell_type": "code",
   "execution_count": 2,
   "metadata": {},
   "outputs": [],
   "source": [
    "# File1 should probably be the CD_CSV file always\n",
    "def main(file1, file2):\n",
    "    f1 = pd.read_csv(file1, sep='\\t', encoding='utf-8')\n",
    "    df_file1 = pd.DataFrame(f1)\n",
    "    df_file2 = pd.DataFrame(pd.read_csv(file2, sep='\\t', encoding='utf-8'))\n",
    "\n",
    "    # print(df_file1['County'].head(5))\n",
    "    # By making this new DataFrame I cut out the excess index column from the second file.\n",
    "    stats_from_file_two = pd.DataFrame(data=[df_file2['County'], df_file2['Higher Degree'], df_file2['H.S Diploma'], df_file2['No H.S Diploma']]).transpose()\n",
    "\n",
    "    df_output = pd.merge(df_file1, stats_from_file_two, on='County')\n",
    "    # print(df_output.head(5))\n",
    "\n",
    "    df_output.to_csv('CD_and_Statistical_Atlas_Data_Combined', sep='\\t', encoding='utf-8')"
   ]
  },
  {
   "cell_type": "code",
   "execution_count": null,
   "metadata": {},
   "outputs": [],
   "source": [
    "if __name__ == '__main__':\n",
    "    main('Fully_Cleaned_CD_Data', 'Fully_Cleaned_AEA_Data')"
   ]
  }
 ],
 "metadata": {
  "kernelspec": {
   "display_name": "Python 3",
   "language": "python",
   "name": "python3"
  },
  "language_info": {
   "codemirror_mode": {
    "name": "ipython",
    "version": 3
   },
   "file_extension": ".py",
   "mimetype": "text/x-python",
   "name": "python",
   "nbconvert_exporter": "python",
   "pygments_lexer": "ipython3",
   "version": "3.6.5"
  }
 },
 "nbformat": 4,
 "nbformat_minor": 2
}
