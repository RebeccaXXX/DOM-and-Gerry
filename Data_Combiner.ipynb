{
 "cells": [
  {
   "cell_type": "code",
   "execution_count": 1,
   "metadata": {},
   "outputs": [],
   "source": [
    "import pandas as pd"
   ]
  },
  {
   "cell_type": "code",
   "execution_count": 1,
   "metadata": {},
   "outputs": [],
   "source": [
    "# Method to combine two CSV files together using Pandas merge calls\n",
    "def main(file1, file2): # File1 should probably be the CD_CSV file mostly\n",
    "    f1 = pd.read_csv(file1, sep='\\t', encoding='utf-8')\n",
    "    df_file1 = pd.DataFrame(f1)\n",
    "    df_file2 = pd.DataFrame(pd.read_csv(file2, sep='\\t', encoding='utf-8'))\n",
    "\n",
    "    # print(df_file1['County'].head(5))\n",
    "    if file2 == 'Fully_Cleaned_AEA_Data':\n",
    "        # By making this new DataFrame I cut out the excess index column from the second file.\n",
    "        stats_from_file_two = pd.DataFrame(data=[df_file2['County'], df_file2['Higher Degree'], df_file2['H.S Diploma'], df_file2['No H.S Diploma']]).transpose()\n",
    "        df_output = pd.merge(df_file1, stats_from_file_two, on='County')\n",
    "        df_output.to_csv('CD_and_Statistical_Atlas_Data_Combined', sep='\\t', encoding='utf-8')\n",
    "    elif file2 == 'Fully_Cleaned_SS_Data':\n",
    "        summarize_school_scores(df_file2)\n",
    "        # Make new data frame to remove excess index column\n",
    "        # school_file_two = pd.DataFrame(data=[df_file2['County'], df_file2['Higher Degree'], df_file2['H.S Diploma'], df_file2['No H.S Diploma']]).transpose()\n",
    "        # df_output = pd.merge(df_file1, df_file2, on='County')\n",
    "    # print(df_output.head(5))\n",
    "\n",
    "    # df_output.to_csv('CD_SA_SS_Data_Combined', sep='\\t', encoding='utf-8')"
   ]
  },
  {
   "cell_type": "code",
   "execution_count": null,
   "metadata": {},
   "outputs": [],
   "source": [
    "# Method to summarize all school score data into one score per county\n",
    "def summarize_school_scores(data):\n",
    "    advancedgroup = data['% Advanced'].groupby(data['County'])\n",
    "    proficientgroup = data['% Proficient'].groupby(data['County'])\n",
    "    basicgroup = data['% Basic'].groupby(data['County'])\n",
    "    belowbgroup = data['% Advanced'].groupby(data['County'])\n",
    "\n",
    "    print(advancedgroup.head(5))"
   ]
  },
  {
   "cell_type": "code",
   "execution_count": null,
   "metadata": {},
   "outputs": [],
   "source": [
    "# Make sure to update what files you are passing in for combination. At this point,\n",
    "# CD_and_Statistical_Atlas_Data_Combined is the master file currently\n",
    "if __name__ == '__main__':\n",
    "    main('CD_and_Statistical_Atlas_Data_Combined', 'Fully_Cleaned_SS_Data')"
   ]
  }
 ],
 "metadata": {
  "kernelspec": {
   "display_name": "Python 3",
   "language": "python",
   "name": "python3"
  },
  "language_info": {
   "codemirror_mode": {
    "name": "ipython",
    "version": 3
   },
   "file_extension": ".py",
   "mimetype": "text/x-python",
   "name": "python",
   "nbconvert_exporter": "python",
   "pygments_lexer": "ipython3",
   "version": "3.6.5"
  }
 },
 "nbformat": 4,
 "nbformat_minor": 2
}
