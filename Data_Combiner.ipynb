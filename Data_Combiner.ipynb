{
 "cells": [
  {
   "cell_type": "code",
   "execution_count": 1,
   "metadata": {},
   "outputs": [],
   "source": [
    "import pandas as pd"
   ]
  },
  {
   "cell_type": "code",
   "execution_count": 1,
   "metadata": {},
   "outputs": [],
   "source": [
    "# Method to combine two CSV files together using Pandas merge calls\n",
    "def main(file1, file2): # File1 should probably be the CD_CSV file mostly\n",
    "    df_file1 = pd.DataFrame(pd.read_csv(file1, sep='\\t', encoding='utf-8'))\n",
    "    df_file2 = pd.DataFrame(pd.read_csv(file2, sep='\\t', encoding='utf-8'))\n",
    "\n",
    "    # print(df_file1['County'].head(5))\n",
    "    if file2 == 'Fully_Cleaned_AEA_Data':\n",
    "        # By making this new DataFrame I cut out the excess index column from the second file.\n",
    "        stats_from_file_two = pd.DataFrame(data=[df_file2['County'], df_file2['Higher Degree'], df_file2['H.S Diploma'], df_file2['No H.S Diploma']]).transpose()\n",
    "        df_output = pd.merge(df_file1, stats_from_file_two, on='County')\n",
    "        df_output.to_csv('CD_and_Statistical_Atlas_Data_Combined', sep='\\t', encoding='utf-8')\n",
    "    elif file2 == 'Fully_Cleaned_SS_Data':\n",
    "        summarize_school_scores(df_file2)\n",
    "        # Make new data frame to remove excess index column\n",
    "        # school_file_two = pd.DataFrame(data=[df_file2['County'], df_file2['Higher Degree'], df_file2['H.S Diploma'], df_file2['No H.S Diploma']]).transpose()\n",
    "        # df_output = pd.merge(df_file1, df_file2, on='County')\n",
    "    # print(df_output.head(5))\n",
    "\n",
    "    # df_output.to_csv('CD_SA_SS_Data_Combined', sep='\\t', encoding='utf-8')"
   ]
  },
  {
   "cell_type": "code",
   "execution_count": 2,
   "metadata": {},
   "outputs": [],
   "source": [
    "# Method to summarize all school score data into one score per county\n",
    "def summarize_school_scores(data):\n",
    "    advancedgroup = data['% Advanced'].groupby(data['County'])\n",
    "    proficientgroup = data['% Proficient'].groupby(data['County'])\n",
    "    basicgroup = data['% Basic'].groupby(data['County'])\n",
    "    belowbgroup = data['% Advanced'].groupby(data['County'])\n",
    "\n",
    "    print(advancedgroup.head(5))"
   ]
  },
  {
   "cell_type": "code",
   "execution_count": null,
   "metadata": {},
   "outputs": [],
   "source": [
    "# Combines the zip code files and then connects them to the CD file, fill in blank zip codes with county level zip codes\n",
    "def combinezips(file1, file2):\n",
    "    df_file1 = pd.DataFrame(pd.read_csv(file1, sep=',', encoding='utf-8'))\n",
    "    df_file2 = pd.DataFrame(pd.read_csv(file2, sep=',', encoding='utf-8'))\n",
    "\n",
    "    df_file2['ZipCode'] = df_file2['ZipCode'].astype('int32')\n",
    "\n",
    "    combined = pd.merge(df_file1, df_file2, on='ZipCode')\n",
    "    combined_main_columns = pd.DataFrame(data=[combined['City'], combined['ZipCode'], combined['Lat'], combined['Long']]).transpose()\n",
    "    combined_main_columns['ZipCode'] = combined_main_columns['ZipCode'].astype('int32')\n",
    "\n",
    "    main_file = pd.DataFrame(pd.read_csv('CD_and_Statistical_Atlas_Data_Combined', sep='\\t', encoding='utf-8'))\n",
    "    main_file = main_file.rename(index=str, columns={\"City Name\": \"City\"})\n",
    "\n",
    "    updated_main = pd.merge(main_file, combined_main_columns, on='City')\n",
    "\n",
    "    # Where I deal with small cities that didn't get given a zip code on web site we scrapped by giving them county level lat/long\n",
    "    blank_subset = pd.merge(main_file, combined_main_columns, on='City', how='left')\n",
    "    blank_subset['ZipCode'] = blank_subset['ZipCode'].fillna(0)\n",
    "    blank_subset = blank_subset[blank_subset['ZipCode'] == 0]\n",
    "    county_zip1 = pd.DataFrame(pd.read_csv('County_Zip.csv', sep=',', encoding='utf-8'))\n",
    "    county_zip2 = pd.DataFrame(pd.read_csv('County_Zip_Lat_Long.csv', sep=',', encoding='utf-8'))\n",
    "    county_zip2['ZipCode'] = county_zip2['ZipCode'].astype('int32')\n",
    "    combined_county_zip = pd.merge(county_zip1, county_zip2, on='ZipCode')\n",
    "    combined_county_zip['County'] = combined_county_zip['County'] + '-County'\n",
    "    blank_subset_filled = pd.merge(blank_subset, combined_county_zip, on='County')\n",
    "\n",
    "    # Clean out 2 useless columns\n",
    "    updated_main = updated_main.drop(updated_main.columns[0], axis=1)\n",
    "    updated_main = updated_main.drop(updated_main.columns[0], axis=1)\n",
    "    blank_subset_filled = blank_subset_filled.drop(blank_subset_filled.columns[0], axis=1)\n",
    "    blank_subset_filled = blank_subset_filled.drop(blank_subset_filled.columns[0], axis=1)\n",
    "\n",
    "\n",
    "    #pd.set_option('display.max_columns', 22)\n",
    "    del blank_subset_filled['Unnamed: 0_y']\n",
    "    del blank_subset_filled['Unnamed: 0_x']\n",
    "    del blank_subset_filled['Long_x']\n",
    "    del blank_subset_filled['Lat_x']\n",
    "    del blank_subset_filled['ZipCode_x']\n",
    "    blank_subset_filled = blank_subset_filled.rename(index=str, columns={'Lat_y': 'Lat', 'Long_y': 'Long', 'ZipCode_y': 'ZipCode'})\n",
    "    blank_subset_filled['ZipCode'] = blank_subset_filled['ZipCode'].astype('int32')\n",
    "    blank_subset_filled['Lat'] = blank_subset_filled['Lat'].astype('object')\n",
    "    blank_subset_filled['Long'] = blank_subset_filled['Long'].astype('object')\n",
    "\n",
    "    print(blank_subset_filled.dtypes)\n",
    "    print(updated_main.dtypes)\n",
    "\n",
    "    df = [updated_main, blank_subset_filled]\n",
    "\n",
    "    #print(updated_main)\n",
    "    #print(blank_subset_filled)\n",
    "\n",
    "    final_dataframe = pd.concat(df)\n",
    "    final_dataframe.to_csv('CD_SA_with_Zip_all.csv', sep='\\t', encoding='utf-8')"
   ]
  },
  {
   "cell_type": "code",
   "execution_count": null,
   "metadata": {},
   "outputs": [],
   "source": [
    "# Make sure to update what files you are passing in for combination. At this point,\n",
    "# CD_and_Statistical_Atlas_Data_Combined is the master file currently\n",
    "if __name__ == '__main__':\n",
    "    # main('Fully_Cleaned_CD_Data', 'Fully_Cleaned_AEA_Data')\n",
    "    combinezips('City_Zip.csv', 'City_Zip_Lat_Long.csv')"
   ]
  }
 ],
 "metadata": {
  "kernelspec": {
   "display_name": "Python 3",
   "language": "python",
   "name": "python3"
  },
  "language_info": {
   "codemirror_mode": {
    "name": "ipython",
    "version": 3
   },
   "file_extension": ".py",
   "mimetype": "text/x-python",
   "name": "python",
   "nbconvert_exporter": "python",
   "pygments_lexer": "ipython3",
   "version": "3.6.5"
  }
 },
 "nbformat": 4,
 "nbformat_minor": 2
}
