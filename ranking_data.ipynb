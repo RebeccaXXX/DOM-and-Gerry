{
 "cells": [
  {
   "cell_type": "code",
   "execution_count": 1,
   "metadata": {},
   "outputs": [],
   "source": [
    "import pandas as pd"
   ]
  },
  {
   "cell_type": "code",
   "execution_count": 2,
   "metadata": {},
   "outputs": [],
   "source": [
    "# NOTE: For consistency sake, I am making sure that whatever the user wants (city with high pop, low age, high income)\n",
    "# that those ranked columns output large numbers. So wanting a large city will be fine since Philly will rank out as a\n",
    "# high number, but wanting a small city, I invert the rank so the smallest city in PA, Baileyville, is now the largest #\n",
    "\n",
    "# Method to sort and rank cities and counties based on what the user selects in our GUI\n",
    "# data1-3 are the columns the user cares about, d1-3Flag are whether the user cares about smaller or larger values\n",
    "# and cflag is whether the user is looking at cities or counties\n",
    "def main(data1, d1Flag, data2, d2Flag, data3, d3Flag, cflag):\n",
    "    df = pd.DataFrame(pd.read_csv('Master_Data_File.csv', sep=',', encoding='utf-8'))\n",
    "    if cflag == 'City':\n",
    "        # Create sorted grouping of columns based on users interests\n",
    "        group1 = df.sort_values(by=data1, ascending=d1Flag)\n",
    "        group2 = df.sort_values(by=data2, ascending=d2Flag)\n",
    "        group3 = df.sort_values(by=data3, ascending=d3Flag)\n",
    "\n",
    "        # Compute the rank of the values in that column, I negate the flag since I want everything weighted the same\n",
    "        rank1 = df[data1].rank(ascending=not d1Flag)\n",
    "        rank2 = df[data2].rank(ascending=not d2Flag)\n",
    "        rank3 = df[data3].rank(ascending=not d3Flag)\n",
    "\n",
    "        agggroup = pd.DataFrame(data=[df['City'], rank1 + rank2 + rank3], index=['City', 'Rank']).T.sort_values(by='Rank', ascending=False)\n",
    "    else:  # County\n",
    "        # Some of our columns need to be summed and not averaged, making a list of them here\n",
    "        sumList = ['Population', 'White Alone', 'Hispanic', 'Two or more races', 'Native Hawaiian', 'Black alone',\n",
    "                   'Asian alone', 'American Indian alone', 'Other race alone']\n",
    "        # Some of data is being assessed as Object type, even though it is clearly an int, put in this failsafe\n",
    "        df[data1] = df[data1].astype('float64')\n",
    "        df[data2] = df[data2].astype('float64')\n",
    "        df[data3] = df[data3].astype('float64')\n",
    "        group = df.groupby('County')\n",
    "\n",
    "        # Set of if statements to assess if the input data should be summed or averaged\n",
    "        if data1 in sumList:\n",
    "            group1 = group[data1].sum().sort_values(ascending=d1Flag)\n",
    "        else:\n",
    "            group1 = group[data1].mean().sort_values(ascending=d1Flag)\n",
    "        if data2 in sumList:\n",
    "            group2 = group[data2].sum().sort_values(ascending=d2Flag)\n",
    "        else:\n",
    "            group2 = group[data2].mean().sort_values(ascending=d2Flag)\n",
    "        if data3 in sumList:\n",
    "            group3 = group[data3].sum().sort_values(ascending=d3Flag)\n",
    "        else:\n",
    "            group3 = group[data3].mean().sort_values(ascending=d3Flag)\n",
    "\n",
    "        # Compute the rank of the values in that column, I negate the flag since I want everything weighted the same\n",
    "        rank1 = group1.rank(ascending=not d1Flag)\n",
    "        rank2 = group2.rank(ascending=not d2Flag)\n",
    "        rank3 = group3.rank(ascending=not d3Flag)\n",
    "\n",
    "        agggroup = pd.DataFrame(data=[rank1 + rank2 + rank3], index=['Rank']).T.sort_values(by='Rank', ascending=False)\n",
    "\n",
    "    return group1, group2, group3, agggroup"
   ]
  },
  {
   "cell_type": "code",
   "execution_count": null,
   "metadata": {},
   "outputs": [],
   "source": [
    "if __name__ == '__main__':\n",
    "    main('Median House Value', False, 'Average Income', False, 'Population', False, 'County')"
   ]
  }
 ],
 "metadata": {
  "kernelspec": {
   "display_name": "Python 3",
   "language": "python",
   "name": "python3"
  },
  "language_info": {
   "codemirror_mode": {
    "name": "ipython",
    "version": 3
   },
   "file_extension": ".py",
   "mimetype": "text/x-python",
   "name": "python",
   "nbconvert_exporter": "python",
   "pygments_lexer": "ipython3",
   "version": "3.6.5"
  }
 },
 "nbformat": 4,
 "nbformat_minor": 2
}
