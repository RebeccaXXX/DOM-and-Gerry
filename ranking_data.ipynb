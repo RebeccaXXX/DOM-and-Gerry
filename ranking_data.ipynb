{
 "cells": [
  {
   "cell_type": "code",
   "execution_count": 1,
   "metadata": {},
   "outputs": [],
   "source": [
    "import pandas as pd\n",
    "import numpy as np"
   ]
  },
  {
   "cell_type": "code",
   "execution_count": 2,
   "metadata": {},
   "outputs": [],
   "source": [
    "def main(data1, data2, data3, cflag):\n",
    "    df = pd.DataFrame(pd.read_csv('Master_Data_File.csv', sep=',', encoding='utf-8'))\n",
    "    if cflag == 'City':\n",
    "        group1 = df.sort_values(by=data1, ascending=False)\n",
    "        group2 = df.sort_values(by=data2, ascending=False)\n",
    "        group3 = df.sort_values(by=data3, ascending=False)\n",
    "        agggroup = pd.DataFrame(data=[df['City'], df[data1].rank() + df[data2].rank() + df[data3].rank()], index=['City', 'Rank']).T\n",
    "        agggroup_sorted = agggroup.sort_values(by='Rank', ascending=False)\n",
    "        print(agggroup.head())\n",
    "        print(agggroup_sorted.head())\n",
    "    else:\n",
    "        group = df.groupby('County')\n",
    "        group1 = group[data1].sum()\n",
    "        group2 = group[data2].sum()\n",
    "        group3 = group[data3].sum()\n",
    "        #agggroup = pd.DataFrame(data=[df['City'], df[data1].rank() + df[data2].rank() + df[data3].rank()], index=['City', 'Rank']).T\n",
    "        #agggroup_sorted = agggroup.sort_values(by='Rank', ascending=False)\n",
    "        print(group['Population'].head())\n",
    "        print(group['County'].head())\n",
    "        print(group3.head())\n",
    "        #print(agggroup_sorted.head())\n",
    "\n",
    "    return group1, group2, group3, agggroup"
   ]
  },
  {
   "cell_type": "code",
   "execution_count": null,
   "metadata": {},
   "outputs": [],
   "source": [
    "if __name__ == '__main__':\n",
    "    main('Age', 'Average Income', 'Population', 'City')"
   ]
  }
 ],
 "metadata": {
  "kernelspec": {
   "display_name": "Python 3",
   "language": "python",
   "name": "python3"
  },
  "language_info": {
   "codemirror_mode": {
    "name": "ipython",
    "version": 3
   },
   "file_extension": ".py",
   "mimetype": "text/x-python",
   "name": "python",
   "nbconvert_exporter": "python",
   "pygments_lexer": "ipython3",
   "version": "3.6.5"
  }
 },
 "nbformat": 4,
 "nbformat_minor": 2
}
