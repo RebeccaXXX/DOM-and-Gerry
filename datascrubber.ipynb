{
 "cells": [
  {
   "cell_type": "code",
   "execution_count": 1,
   "metadata": {},
   "outputs": [],
   "source": [
    "def loadindata(file):\n",
    "    arr = list()\n",
    "    with open(file, 'r') as f:\n",
    "        for line in f:\n",
    "            arr.append(line)\n",
    "    return arr"
   ]
  },
  {
   "cell_type": "code",
   "execution_count": 2,
   "metadata": {},
   "outputs": [],
   "source": [
    "def savedata(array):\n",
    "    with open('cleaned_data.py', 'w') as f:\n",
    "        for i in range(len(array)):\n",
    "            f.write(str(array[i]) + \"\\n\")"
   ]
  },
  {
   "cell_type": "code",
   "execution_count": 3,
   "metadata": {},
   "outputs": [],
   "source": [
    "def mrclean(array):\n",
    "    cdata = list()\n",
    "    for i in range(len(array)):\n",
    "        dataarray = array[i].split(\"',\")\n",
    "\n",
    "        # Grab and clean city name\n",
    "        cityarray = dataarray[0][2:]\n",
    "\n",
    "        metricarray = dataarray[1].split(\"|\")\n",
    "\n",
    "        # Grab and clean city population\n",
    "        poparray = metricarray[0].split(\" \")[2]\n",
    "\n",
    "        # Grab and clean average age\n",
    "        agearray = metricarray[1].split(\" \")[1][4:]\n",
    "\n",
    "        # Grab and clean average income\n",
    "        avgincarray = metricarray[2].lstrip().split(\" \")[0]\n",
    "\n",
    "        # Grab and clean percent of men in counties\n",
    "        permenarray = metricarray[3][6:-2]\n",
    "\n",
    "        # Grab and clean percent of women in counties\n",
    "        perwomarray = metricarray[4][6:-2]\n",
    "\n",
    "        # Grab and clean per capita income\n",
    "        percaparray = metricarray[5].lstrip().split(\" \")[0]\n",
    "\n",
    "        # Grab Median House value and clean it\n",
    "        if metricarray[6].strip()[-1] == 'n':\n",
    "            mhvarray = metricarray[6].strip()[:-4]\n",
    "        elif metricarray[6].strip()[-1] == '(':\n",
    "            mhvarray = metricarray[6].strip()[:-2]\n",
    "\n",
    "        # Grab Racial Breakdown and clean it\n",
    "        racearray = metricarray[7]\n",
    "        try:\n",
    "            if racearray[-4:-1] == \"])]\":\n",
    "                racearray\n",
    "            elif racearray.strip() == \"[]\":\n",
    "                racearray = \"*\"\n",
    "            else:\n",
    "                racearray = racearray + \" \" + dataarray[-1].split(\" | \")[0][5:]\n",
    "        except:\n",
    "            pass\n",
    "\n",
    "        # Grab county and clean it\n",
    "        try:\n",
    "            countyarray = dataarray[-1].split(\" | \")[-1][0:-3]\n",
    "        except:\n",
    "            countyarray = \"***\"\n",
    "\n",
    "        ip = [cityarray, poparray, agearray, avgincarray, permenarray, perwomarray, percaparray, mhvarray, racearray, countyarray]\n",
    "        cdata.append(ip)\n",
    "    return cdata\n"
   ]
  },
  {
   "cell_type": "code",
   "execution_count": null,
   "metadata": {},
   "outputs": [],
   "source": [
    "def main(file):\n",
    "    loadeddata = loadindata(file)\n",
    "    cleaned_data = mrclean(loadeddata)\n",
    "    savedata(cleaned_data)"
   ]
  },
  {
   "cell_type": "code",
   "execution_count": null,
   "metadata": {},
   "outputs": [],
   "source": [
    "if __name__ == \"__main__\":\n",
    "    main(\"all_cities.py\")"
   ]
  },
  {
   "cell_type": "code",
   "execution_count": null,
   "metadata": {},
   "outputs": [],
   "source": []
  }
 ],
 "metadata": {
  "kernelspec": {
   "display_name": "Python 3",
   "language": "python",
   "name": "python3"
  },
  "language_info": {
   "codemirror_mode": {
    "name": "ipython",
    "version": 3
   },
   "file_extension": ".py",
   "mimetype": "text/x-python",
   "name": "python",
   "nbconvert_exporter": "python",
   "pygments_lexer": "ipython3",
   "version": "3.6.5"
  }
 },
 "nbformat": 4,
 "nbformat_minor": 2
}
