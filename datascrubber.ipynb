{
 "cells": [
  {
   "cell_type": "code",
   "execution_count": 1,
   "metadata": {
    "collapsed": true
   },
   "outputs": [],
   "source": [
    "#Imports needed for the methods in this py file.\n",
    "import pandas as pd"
   ]
  },
  {
   "cell_type": "code",
   "execution_count": 1,
   "metadata": {},
   "outputs": [],
   "source": [
    "# Method to read in data I saved off with CD_scraping.py for cleaning\n",
    "def loadindata(file):\n",
    "    arr = list()\n",
    "    with open(file, 'r') as f:\n",
    "        for line in f:\n",
    "            arr.append(line)\n",
    "    return arr"
   ]
  },
  {
   "cell_type": "code",
   "execution_count": 2,
   "metadata": {
    "collapsed": true
   },
   "outputs": [],
   "source": [
    "# Method I created to save cleaned data to .py file, but decided to use the Dataframe.to_csv() in the end\n",
    "def savedata(array):\n",
    "    with open('cleaned_data.py', 'w') as f:\n",
    "        for i in range(len(array)):\n",
    "            f.write(str(array[i]) + \"\\n\")"
   ]
  },
  {
   "cell_type": "code",
   "execution_count": 3,
   "metadata": {
    "collapsed": true
   },
   "outputs": [],
   "source": [
    "# Method to take in all rows of city data and clean each element\n",
    "def mrclean(array):\n",
    "    cdata = list()\n",
    "    for i in range(len(array)):\n",
    "        dataarray = array[i].split(\"',\")\n",
    "\n",
    "        # Grab and clean city name\n",
    "        cityarray = dataarray[0][2:]\n",
    "\n",
    "        metricarray = dataarray[1].split(\"|\")\n",
    "\n",
    "        # Grab and clean city population\n",
    "        poparray = metricarray[0].split(\" \")[2]\n",
    "\n",
    "        # Grab and clean average age\n",
    "        agearray = metricarray[1].split(\" \")[1][4:]\n",
    "\n",
    "        # Grab and clean average income\n",
    "        avgincarray = metricarray[2].lstrip().split(\" \")[0]\n",
    "\n",
    "        # Grab and clean percent of men in counties\n",
    "        permenarray = metricarray[3][6:-2]\n",
    "\n",
    "        # Grab and clean percent of women in counties\n",
    "        perwomarray = metricarray[4][6:-2]\n",
    "\n",
    "        # Grab and clean per capita income\n",
    "        percaparray = metricarray[5].lstrip().split(\" \")[0]\n",
    "\n",
    "        # Grab Median House value and clean it\n",
    "        if metricarray[6].strip()[-1] == 'n':\n",
    "            mhvarray = metricarray[6].strip()[:-4]\n",
    "        elif metricarray[6].strip()[-1] == '(':\n",
    "            mhvarray = metricarray[6].strip()[:-2]\n",
    "\n",
    "        # Grab Racial Breakdown and clean it\n",
    "        racearray = metricarray[7]\n",
    "        try:\n",
    "            if racearray[-4:-1] == \"])]\":\n",
    "                racearray\n",
    "            elif racearray.strip() == \"[]\":\n",
    "                racearray = \"*\"\n",
    "            else:\n",
    "                racearray = racearray + \" \" + dataarray[-1].split(\" | \")[0][5:]\n",
    "        except:\n",
    "            pass\n",
    "\n",
    "        # Grab county and clean it\n",
    "        try:\n",
    "            countyarray = dataarray[-1].split(\" | \")[-1][0:-3]\n",
    "        except:\n",
    "            countyarray = \"***\"\n",
    "\n",
    "        ip = [cityarray, poparray, agearray, avgincarray, permenarray, perwomarray, percaparray, mhvarray, racearray, countyarray]\n",
    "        cdata.append(ip)\n",
    "    return cdata"
   ]
  },
  {
   "cell_type": "code",
<<<<<<< HEAD
   "execution_count": 2,
   "metadata": {},
=======
   "execution_count": null,
   "metadata": {
    "collapsed": true
   },
>>>>>>> 3feb4ad4d6a15922ef121906619dde53afb60705
   "outputs": [],
   "source": [
    "# Main tag where I load in the data I scrapped, clean it and then save it to a .csv file\n",
    "def main(file):\n",
    "    loadeddata = loadindata(file)\n",
    "    cleaned_data = mrclean(loadeddata)\n",
    "    # Convert it to a Dataframe object and save it to a .csv\n",
    "    DF_CD = pd.DataFrame(cleaned_data)\n",
    "    DF_CD.to_csv('CD_CSV', sep='\\t', encoding='utf-8')\n",
    "    #savedata(cleaned_data)"
   ]
  },
  {
   "cell_type": "code",
   "execution_count": null,
   "metadata": {
    "collapsed": true
   },
   "outputs": [],
   "source": [
    "if __name__ == \"__main__\":\n",
    "    main(\"all_cities.py\")"
   ]
<<<<<<< HEAD
=======
  },
  {
   "cell_type": "code",
   "execution_count": null,
   "metadata": {
    "collapsed": true
   },
   "outputs": [],
   "source": []
>>>>>>> 3feb4ad4d6a15922ef121906619dde53afb60705
  }
 ],
 "metadata": {
  "anaconda-cloud": {},
  "kernelspec": {
   "display_name": "Python [default]",
   "language": "python",
   "name": "python3"
  },
  "language_info": {
   "codemirror_mode": {
    "name": "ipython",
    "version": 3
   },
   "file_extension": ".py",
   "mimetype": "text/x-python",
   "name": "python",
   "nbconvert_exporter": "python",
   "pygments_lexer": "ipython3",
   "version": "3.5.2"
  }
 },
 "nbformat": 4,
 "nbformat_minor": 2
}
