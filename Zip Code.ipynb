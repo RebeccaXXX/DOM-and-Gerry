{
 "cells": [
  {
   "cell_type": "code",
   "execution_count": 1,
   "metadata": {
    "collapsed": true
   },
   "outputs": [],
   "source": [
    "import bs4\n",
    "import requests\n",
    "import pandas as pd \n",
    "import numpy as np\n",
    "from bs4 import BeautifulSoup"
   ]
  },
  {
   "cell_type": "code",
   "execution_count": 2,
   "metadata": {
    "collapsed": true
   },
   "outputs": [],
   "source": [
    "root = \"https://www.zipcodestogo.com/Pennsylvania/\"\n",
    "html = requests.get(root)\n",
    "soup = BeautifulSoup(html.content,'html.parser')\n",
    "elements = soup.select('tr a')"
   ]
  },
  {
   "cell_type": "code",
   "execution_count": 3,
   "metadata": {
    "collapsed": false
   },
   "outputs": [],
   "source": [
    "list=[e.text.strip() for e in elements]\n",
    "num=0\n",
    "zip=[]\n",
    "county=[]\n",
    "for i in list:\n",
    "    if (num%3==1 and num<=6571):\n",
    "        zip.append(i)\n",
    "    if (num%3==2 and num<=6572):\n",
    "        county.append(i)\n",
    "    num=num+1"
   ]
  },
  {
   "cell_type": "code",
   "execution_count": 4,
   "metadata": {
    "collapsed": false
   },
   "outputs": [],
   "source": [
    "headers = ['ZipCode', 'County']\n",
    "df = pd.DataFrame(columns=headers)\n",
    "point=0\n",
    "repeat=[]\n",
    "for i in zip:\n",
    "    if (county[point] in repeat)==False:\n",
    "        df.loc[point+1]=[i, county[point]]\n",
    "        repeat.append(county[point])\n",
    "    point+=1"
   ]
  },
  {
   "cell_type": "code",
   "execution_count": 5,
   "metadata": {
    "collapsed": false
   },
   "outputs": [],
   "source": [
    "headers = ['ZipCode', 'City']\n",
    "df1 = pd.DataFrame(columns=headers)\n",
    "num=0\n",
    "point=1\n",
    "for i in elements:\n",
    "    if(num%3==1 and num<=6547):\n",
    "        output=i['href'].split('/')\n",
    "        df1.loc[point]=[output[5], output[3]]\n",
    "        point+=1\n",
    "    num=num+1"
   ]
  },
  {
   "cell_type": "code",
   "execution_count": 6,
   "metadata": {
    "collapsed": true
   },
   "outputs": [],
   "source": [
    "df.to_csv('County_Zip.csv', sep=',', encoding='utf-8')\n",
    "df1.to_csv('City_Zip.csv', sep=',', encoding='utf-8')"
   ]
  },
  {
   "cell_type": "code",
   "execution_count": null,
   "metadata": {
    "collapsed": true
   },
   "outputs": [],
   "source": []
  }
 ],
 "metadata": {
  "anaconda-cloud": {},
  "kernelspec": {
   "display_name": "Python [conda root]",
   "language": "python",
   "name": "conda-root-py"
  },
  "language_info": {
   "codemirror_mode": {
    "name": "ipython",
    "version": 3
   },
   "file_extension": ".py",
   "mimetype": "text/x-python",
   "name": "python",
   "nbconvert_exporter": "python",
   "pygments_lexer": "ipython3",
   "version": "3.5.2"
  }
 },
 "nbformat": 4,
 "nbformat_minor": 1
}
