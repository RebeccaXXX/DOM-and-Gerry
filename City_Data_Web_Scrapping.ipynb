{
 "cells": [
  {
   "cell_type": "code",
   "execution_count": 2,
   "metadata": {},
   "outputs": [],
   "source": [
    "import selenium\n",
    "from bs4 import BeautifulSoup\n",
    "import requests\n",
    "import numpy as np"
   ]
  },
  {
   "cell_type": "code",
   "execution_count": 3,
   "metadata": {},
   "outputs": [],
   "source": [
    "def main(url):\n",
    "    web_input = requests.get(url)\n",
    "    soup = BeautifulSoup(web_input.content, 'html.parser')\n",
    "    all_tr = soup.find_all('tr')\n",
    "    all_cities = list()\n",
    "    data = list()\n",
    "    for city in all_tr:\n",
    "        try:\n",
    "            if city['class'][0] == 'rT' or city['class'][0] == 'rS' or city['class'][0] == 'rB':\n",
    "                name = city.select('a')\n",
    "                name = str(name[0].contents[0]).split(\",\")\n",
    "                all_cities.append(name[0])\n",
    "        except KeyError:\n",
    "            pass\n",
    "    for i in range(0, 1):\n",
    "        population = scrapernoscraping(all_cities[i]) #Make sure to change the index back to i!!!!!!!!!!!!\n",
    "        data.append(population)\n",
    "    output = list(zip(all_cities, data))\n",
    "    print(output)\n",
    "    #np.save('output', output)"
   ]
  },
  {
   "cell_type": "code",
   "execution_count": 4,
   "metadata": {},
   "outputs": [],
   "source": [
    "def scrapernoscraping(name):\n",
    "    url = 'http://www.city-data.com/city/' + name + '-Pennsylvania.html'\n",
    "    web_input = requests.get(url)\n",
    "    more_soup = BeautifulSoup(web_input.content, 'html.parser')\n",
    "    all_sections_cp = more_soup.find_all('section', {'id': 'city-population'})\n",
    "    all_section_ma = more_soup.find_all('section', {'class': 'median-age'})\n",
    "    all_section_mhi = more_soup.find_all('section', {'class', 'median-income'})\n",
    "    for sect in all_sections_cp:\n",
    "        try:\n",
    "            tup1 = str(sect.contents[1].split(\".\")[0]) #population\n",
    "        except KeyError:\n",
    "            pass\n",
    "    for sect in all_section_ma:\n",
    "        try:\n",
    "            tup2 = str(sect.select('td')[1].contents[-1]) #median-age info\n",
    "        except KeyError:\n",
    "            pass\n",
    "    for sect in all_section_mhi:\n",
    "        try:\n",
    "            tup3 = str(sect.contents[1].strip()) #median-household-income\n",
    "        except (KeyError, IndexError):\n",
    "            pass\n",
    "    tup = tuple((tup1, tup2, tup3))\n",
    "    return tup"
   ]
  },
  {
   "cell_type": "code",
   "execution_count": 5,
   "metadata": {},
   "outputs": [
    {
     "name": "stdout",
     "output_type": "stream",
     "text": [
      "[('Aaronsburg', (' 613', '\\xa052.2 years', '$60,710 ('))]\n"
     ]
    }
   ],
   "source": [
    "if __name__ == \"__main__\":\n",
    "    main('http://www.city-data.com/city/Pennsylvania.html')"
   ]
  },
  {
   "cell_type": "code",
   "execution_count": null,
   "metadata": {},
   "outputs": [],
   "source": []
  }
 ],
 "metadata": {
  "kernelspec": {
   "display_name": "Python 3",
   "language": "python",
   "name": "python3"
  },
  "language_info": {
   "codemirror_mode": {
    "name": "ipython",
    "version": 3
   },
   "file_extension": ".py",
   "mimetype": "text/x-python",
   "name": "python",
   "nbconvert_exporter": "python",
   "pygments_lexer": "ipython3",
   "version": "3.6.5"
  }
 },
 "nbformat": 4,
 "nbformat_minor": 2
}
