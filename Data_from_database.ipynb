{
 "cells": [
  {
   "cell_type": "code",
   "execution_count": null,
   "metadata": {},
   "outputs": [],
   "source": [
    "import sqlite3\n",
    "import pandas as pd"
   ]
  },
  {
   "cell_type": "code",
   "execution_count": null,
   "metadata": {},
   "outputs": [],
   "source": [
    "sqlite_file = 'database.sqlite'\n",
    "conn = sqlite3.connect(sqlite_file)\n",
    "c = conn.cursor()\n",
    "c.execute(\"select name from sqlite_master where type='table' order by name\")\n",
    "table_name = c.fetchall()[1][0]"
   ]
  },
  {
   "cell_type": "code",
   "execution_count": null,
   "metadata": {},
   "outputs": [],
   "source": [
    "sql = \"select * from \"+table_name+\";\"\n",
    "c.execute(sql)\n",
    "full_content = c.fetchall()"
   ]
  },
  {
   "cell_type": "code",
   "execution_count": null,
   "metadata": {},
   "outputs": [],
   "source": [
    "# get table description\n",
    "c.execute(\"PRAGMA table_info(hist)\")\n",
    "description = c.fetchall()"
   ]
  },
  {
   "cell_type": "code",
   "execution_count": null,
   "metadata": {},
   "outputs": [],
   "source": [
    "# get column name\n",
    "c.execute(\"SELECT * FROM {}\".format(table_name))\n",
    "col_name_list = [tuple[0] for tuple in c.description]"
   ]
  },
  {
   "cell_type": "code",
   "execution_count": null,
   "metadata": {},
   "outputs": [],
   "source": [
    "# delete unnecessary information by creating a new table\n",
    "c.execute(\"drop table NewTable\")\n",
    "create_new_table = \"create table NewTable (AUNbr text, [Assaults on Staff] int, [Assaults on Students] int, county text, enrollment int)\"\n",
    "c.execute(create_new_table)"
   ]
  },
  {
   "cell_type": "code",
   "execution_count": null,
   "metadata": {},
   "outputs": [],
   "source": [
    "sql = \"select AUNbr, [Assaults on Staff], [Assaults on Students], county, enrollment from \" + table_name\n",
    "c.execute(sql)\n",
    "to_be_inserted = c.fetchall()"
   ]
  },
  {
   "cell_type": "code",
   "execution_count": null,
   "metadata": {},
   "outputs": [],
   "source": [
    "for i in to_be_inserted:\n",
    "    insertion = \"insert into NewTable values(?,?,?,?,?)\"\n",
    "    c.execute(insertion, i)\n",
    "c.execute(\"select * from NewTable\")\n",
    "data = c.fetchall()"
   ]
  },
  {
   "cell_type": "code",
   "execution_count": null,
   "metadata": {},
   "outputs": [],
   "source": [
    "headers = [\"AUNbr\",\"Assaults on Staff\",\"Assaults on Students\",\"county\",\"enrollment\"]\n",
    "df = pd.DataFrame.from_records(data, columns = headers)\n",
    "df.to_csv('school_security_from_database.csv', sep = \",\", encoding = 'utf-8')"
   ]
  }
 ],
 "metadata": {
  "kernelspec": {
   "display_name": "Python 3",
   "language": "python",
   "name": "python3"
  },
  "language_info": {
   "codemirror_mode": {
    "name": "ipython",
    "version": 3
   },
   "file_extension": ".py",
   "mimetype": "text/x-python",
   "name": "python",
   "nbconvert_exporter": "python",
   "pygments_lexer": "ipython3",
   "version": "3.6.5"
  }
 },
 "nbformat": 4,
 "nbformat_minor": 2
}
